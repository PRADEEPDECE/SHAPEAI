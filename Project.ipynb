{
  "nbformat": 4,
  "nbformat_minor": 0,
  "metadata": {
    "colab": {
      "name": "Untitled1.ipynb",
      "provenance": [],
      "authorship_tag": "ABX9TyMg7apr8bnQmzywl1uJ8K3R",
      "include_colab_link": true
    },
    "kernelspec": {
      "name": "python3",
      "display_name": "Python 3"
    }
  },
  "cells": [
    {
      "cell_type": "markdown",
      "metadata": {
        "id": "view-in-github",
        "colab_type": "text"
      },
      "source": [
        "<a href=\"https://colab.research.google.com/github/PRADEEPDECE/SHAPEAI/blob/main/Project.ipynb\" target=\"_parent\"><img src=\"https://colab.research.google.com/assets/colab-badge.svg\" alt=\"Open In Colab\"/></a>"
      ]
    },
    {
      "cell_type": "code",
      "metadata": {
        "colab": {
          "base_uri": "https://localhost:8080/"
        },
        "id": "tVuOSVf1rcaI",
        "outputId": "cd25db0f-15d1-49e9-ecf3-7f2bc1a734c5"
      },
      "source": [
        "import pandas as pd\r\n",
        "import numpy as np\r\n",
        "from sklearn.datasets import load_iris\r\n",
        "iris_dataset=load_iris()\r\n",
        "print(\"keys of iris_dataset: \\n{}\".format(iris_dataset.keys()))\r\n",
        "print(iris_dataset['DESCR'][:193]+ \"\\n...\")\r\n",
        "print(\"Target Names: {}\".format(iris_dataset['target_names']))\r\n",
        "print(\"Feature Names: {}\".format(iris_dataset['feature_names']))\r\n",
        "print(\"Types Of Data: {}\".format(type(iris_dataset['data'])))\r\n",
        "print(\"Shape Of Data: {}\".format(iris_dataset['data'].shape))\r\n",
        "print(\"First Five Rows of Data: \\n {}\".format(iris_dataset['data'][:5]))\r\n",
        "print(\"Types Of Target: {}\".format(type(iris_dataset['target'])))\r\n",
        "print(\"Shape Of Target: {}\".format(iris_dataset['target'].shape))\r\n",
        "print(\"Target: \\n{}\".format(iris_dataset['target']))"
      ],
      "execution_count": 19,
      "outputs": [
        {
          "output_type": "stream",
          "text": [
            "Target: \n",
            "[0 0 0 0 0 0 0 0 0 0 0 0 0 0 0 0 0 0 0 0 0 0 0 0 0 0 0 0 0 0 0 0 0 0 0 0 0\n",
            " 0 0 0 0 0 0 0 0 0 0 0 0 0 1 1 1 1 1 1 1 1 1 1 1 1 1 1 1 1 1 1 1 1 1 1 1 1\n",
            " 1 1 1 1 1 1 1 1 1 1 1 1 1 1 1 1 1 1 1 1 1 1 1 1 1 1 2 2 2 2 2 2 2 2 2 2 2\n",
            " 2 2 2 2 2 2 2 2 2 2 2 2 2 2 2 2 2 2 2 2 2 2 2 2 2 2 2 2 2 2 2 2 2 2 2 2 2\n",
            " 2 2]\n"
          ],
          "name": "stdout"
        }
      ]
    }
  ]
}